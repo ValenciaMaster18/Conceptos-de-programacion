{
  "nbformat": 4,
  "nbformat_minor": 0,
  "metadata": {
    "colab": {
      "provenance": []
    },
    "kernelspec": {
      "name": "python3",
      "display_name": "Python 3"
    },
    "language_info": {
      "name": "python"
    }
  },
  "cells": [
    {
      "cell_type": "markdown",
      "source": [
        "#**Entornos virtuales**"
      ],
      "metadata": {
        "id": "7AOdc7mxNonj"
      }
    },
    {
      "cell_type": "markdown",
      "source": [
        "\n",
        "\n",
        "> Un entorno virtual es un directorio que contiene una instalación de Python de una versión en particular, además de unos cuantos paquetes adicionales.\n"
      ],
      "metadata": {
        "id": "dkdL2cweNvMH"
      }
    },
    {
      "cell_type": "markdown",
      "source": [
        "\n",
        "\n",
        "* **Los entornos virtuales son de mucha utilidad ya que nos ayudan a tener versiones especificas de librerías o módulos a un proyecto sin afectar a otros.**\n",
        "\n",
        "> De esta forma en el mismo equipo pueden coexistir distintos proyectos con distintas versiones de la misma librería o modulo.\n",
        "\n",
        "\n",
        "\n",
        "\n",
        "\n",
        "\n"
      ],
      "metadata": {
        "id": "ENYXuX0aN55g"
      }
    },
    {
      "cell_type": "markdown",
      "source": [
        "#**Sin usar entornos virtuales**"
      ],
      "metadata": {
        "id": "154X5FaMOQfq"
      }
    },
    {
      "cell_type": "markdown",
      "source": [
        "![sinEntorno.png](data:image/png;base64,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)"
      ],
      "metadata": {
        "id": "OW78cVNqOVZH"
      }
    },
    {
      "cell_type": "markdown",
      "source": [
        "#**Con entornos virtuales**"
      ],
      "metadata": {
        "id": "GM3TqwVyOgto"
      }
    },
    {
      "cell_type": "markdown",
      "source": [
        "![conEntorno.png](data:image/png;base64,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)"
      ],
      "metadata": {
        "id": "mKybn9X0Ot8v"
      }
    },
    {
      "cell_type": "markdown",
      "source": [
        "\n",
        "\n",
        "> **Un entorno virtual funciona como un Python separado para cada proyecto, dónde tiene los módulos que este necesita y nostros podemos gestionar si traer otro, o si actualizarlos para que bajo este entorno, el código siempre funcione.**\n"
      ],
      "metadata": {
        "id": "8h-Jbzt-PPUI"
      }
    },
    {
      "cell_type": "markdown",
      "source": [
        "#**Creando un ambiente virtual con VENV**\n",
        "\n",
        "\n",
        "\n",
        "> **Creación de ambiente Virtual:**\n",
        "\n",
        "*   python3 -m venv nombre_venv\n",
        "\n",
        "*   Usualmente el nombre del ambiente virtual es venv.\n",
        "\n",
        "> **Activación del ambiente virtual:**\n",
        "\n",
        "\n",
        "**Windows:**\n",
        "\n",
        ".\\venv\\Scripts\\activate\n",
        "\n",
        "> **Desactivar el ambiente virtual:**\n",
        "\n",
        "deactivate"
      ],
      "metadata": {
        "id": "uecgQwIFPsVn"
      }
    },
    {
      "cell_type": "markdown",
      "source": [
        "#**Instalación de dependencias con pip**"
      ],
      "metadata": {
        "id": "JoLKWhVQSSkD"
      }
    },
    {
      "cell_type": "markdown",
      "source": [
        "**Pip (package installer for python) Nos permite descargar paquetes de terceros para utilizarlos en nuestro enviroment, ademas se puede definir una versión especifica del paquete.**\n",
        "\n",
        "> **pip install <paquete>** instala el paquete(pandas , matplotlib, bokeh, etc) que se especifique\n",
        "\n",
        "\n",
        "> **pip freeze** muestra todos los paquetes instalados en tu ambiente virtual\n",
        "\n",
        "\n",
        "\n",
        "*   Si quisiéramos que alguien mas pueda ejecutar nuestro proyecto es importante compartir que librería y versión hemos empleado; eso se realiza con el comando:\n",
        "\n",
        "\n",
        "> pip freeze > requirements.txt\n",
        "\n",
        "\n",
        "**El resultado de pip freeze se escribe en requirements.txt (puedes usar otro nombre pero el mostrado es una buena practica)**\n",
        "\n",
        "\n",
        "\n",
        "*   para instalar paquetes desde un archivo como requirements.txt ejecutamos:\n",
        "\n",
        "\n",
        "> pip install -r requirements.txt \n"
      ],
      "metadata": {
        "id": "fhDGnOQtQ1tw"
      }
    }
  ]
}